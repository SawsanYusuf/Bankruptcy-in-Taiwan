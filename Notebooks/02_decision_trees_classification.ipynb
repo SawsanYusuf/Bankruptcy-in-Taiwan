{
  "nbformat": 4,
  "nbformat_minor": 0,
  "metadata": {
    "colab": {
      "provenance": []
    },
    "kernelspec": {
      "name": "python3",
      "display_name": "Python 3"
    },
    "language_info": {
      "name": "python"
    }
  },
  "cells": [
    {
      "cell_type": "markdown",
      "source": [
        "<font size=\"+3\"><strong> Decision Trees Classifier </strong></font>"
      ],
      "metadata": {
        "id": "QkctVcQYZXw-"
      }
    },
    {
      "cell_type": "code",
      "execution_count": null,
      "metadata": {
        "id": "8ZB6wPxhW6D5"
      },
      "outputs": [],
      "source": [
        "# Import libraries\n",
        "import json\n",
        "import pickle\n",
        "\n",
        "import matplotlib.pyplot as plt\n",
        "import pandas as pd\n",
        "import seaborn as sns\n",
        "from imblearn.over_sampling import RandomOverSampler\n",
        "from imblearn.under_sampling import RandomUnderSampler\n",
        "from sklearn.impute import SimpleImputer\n",
        "from sklearn.metrics import ConfusionMatrixDisplay\n",
        "from sklearn.model_selection import train_test_split\n",
        "from sklearn.pipeline import make_pipeline\n",
        "from sklearn.tree import DecisionTreeClassifier"
      ]
    },
    {
      "cell_type": "markdown",
      "source": [
        "# Prepare Data\n",
        "\n",
        "##Import"
      ],
      "metadata": {
        "id": "51brtMOwXFHG"
      }
    },
    {
      "cell_type": "code",
      "source": [
        "def wrangle(filename):\n",
        "      \"\"\"\n",
        "      The function takes the name of a decompressed file as input and returns a tidy DataFrame\n",
        "\n",
        "      Parameters\n",
        "      ----------\n",
        "\n",
        "      filename : str\n",
        "        The name of a decompressed JSON file\n",
        "\n",
        "      Returns\n",
        "      -------\n",
        "      df : dataframe\n",
        "\n",
        "      \"\"\"\n",
        "      #open decompressed file, load into dict\n",
        "      with open (filename, \"r\") as f:\n",
        "              data = json.load(f)\n",
        "      # Turn dict into DataFrame\n",
        "      df = pd.DataFrame().from_dict(data[\"data\"]).set_index(\"id\")\n",
        "\n",
        "      return df"
      ],
      "metadata": {
        "id": "5mQytcIHXVH_"
      },
      "execution_count": null,
      "outputs": []
    },
    {
      "cell_type": "code",
      "source": [
        "# Read the data into dataframe `df`\n",
        "df = wrangle(\"taiwan-bankruptcy-data.json\")\n",
        "print(df.shape)\n",
        "df.head()"
      ],
      "metadata": {
        "id": "6Z-3GCugXWk2",
        "colab": {
          "base_uri": "https://localhost:8080/",
          "height": 304
        },
        "outputId": "31d2546f-0539-4848-c050-0b4437930f42"
      },
      "execution_count": null,
      "outputs": [
        {
          "output_type": "stream",
          "name": "stdout",
          "text": [
            "(6819, 96)\n"
          ]
        },
        {
          "output_type": "execute_result",
          "data": {
            "text/plain": [
              "      feat_1    feat_2    feat_3    feat_4    feat_5    feat_6    feat_7  \\\n",
              "id                                                                         \n",
              "1   0.370594  0.424389  0.405750  0.601457  0.601457  0.998969  0.796887   \n",
              "2   0.464291  0.538214  0.516730  0.610235  0.610235  0.998946  0.797380   \n",
              "3   0.426071  0.499019  0.472295  0.601450  0.601364  0.998857  0.796403   \n",
              "4   0.399844  0.451265  0.457733  0.583541  0.583541  0.998700  0.796967   \n",
              "5   0.465022  0.538432  0.522298  0.598783  0.598783  0.998973  0.797366   \n",
              "\n",
              "      feat_8    feat_9   feat_10  ...   feat_87   feat_88   feat_89   feat_90  \\\n",
              "id                                ...                                           \n",
              "1   0.808809  0.302646  0.780985  ...  0.009219  0.622879  0.601453  0.827890   \n",
              "2   0.809301  0.303556  0.781506  ...  0.008323  0.623652  0.610237  0.839969   \n",
              "3   0.808388  0.302035  0.780284  ...  0.040003  0.623841  0.601449  0.836774   \n",
              "4   0.808966  0.303350  0.781241  ...  0.003252  0.622929  0.583538  0.834697   \n",
              "5   0.809304  0.303475  0.781550  ...  0.003878  0.623521  0.598782  0.839973   \n",
              "\n",
              "     feat_91   feat_92   feat_93  feat_94   feat_95  bankrupt  \n",
              "id                                                             \n",
              "1   0.290202  0.026601  0.564050        1  0.016469      True  \n",
              "2   0.283846  0.264577  0.570175        1  0.020794      True  \n",
              "3   0.290189  0.026555  0.563706        1  0.016474      True  \n",
              "4   0.281721  0.026697  0.564663        1  0.023982      True  \n",
              "5   0.278514  0.024752  0.575617        1  0.035490      True  \n",
              "\n",
              "[5 rows x 96 columns]"
            ],
            "text/html": [
              "\n",
              "  <div id=\"df-4b1356db-156d-43e3-86d9-93866cc59e45\" class=\"colab-df-container\">\n",
              "    <div>\n",
              "<style scoped>\n",
              "    .dataframe tbody tr th:only-of-type {\n",
              "        vertical-align: middle;\n",
              "    }\n",
              "\n",
              "    .dataframe tbody tr th {\n",
              "        vertical-align: top;\n",
              "    }\n",
              "\n",
              "    .dataframe thead th {\n",
              "        text-align: right;\n",
              "    }\n",
              "</style>\n",
              "<table border=\"1\" class=\"dataframe\">\n",
              "  <thead>\n",
              "    <tr style=\"text-align: right;\">\n",
              "      <th></th>\n",
              "      <th>feat_1</th>\n",
              "      <th>feat_2</th>\n",
              "      <th>feat_3</th>\n",
              "      <th>feat_4</th>\n",
              "      <th>feat_5</th>\n",
              "      <th>feat_6</th>\n",
              "      <th>feat_7</th>\n",
              "      <th>feat_8</th>\n",
              "      <th>feat_9</th>\n",
              "      <th>feat_10</th>\n",
              "      <th>...</th>\n",
              "      <th>feat_87</th>\n",
              "      <th>feat_88</th>\n",
              "      <th>feat_89</th>\n",
              "      <th>feat_90</th>\n",
              "      <th>feat_91</th>\n",
              "      <th>feat_92</th>\n",
              "      <th>feat_93</th>\n",
              "      <th>feat_94</th>\n",
              "      <th>feat_95</th>\n",
              "      <th>bankrupt</th>\n",
              "    </tr>\n",
              "    <tr>\n",
              "      <th>id</th>\n",
              "      <th></th>\n",
              "      <th></th>\n",
              "      <th></th>\n",
              "      <th></th>\n",
              "      <th></th>\n",
              "      <th></th>\n",
              "      <th></th>\n",
              "      <th></th>\n",
              "      <th></th>\n",
              "      <th></th>\n",
              "      <th></th>\n",
              "      <th></th>\n",
              "      <th></th>\n",
              "      <th></th>\n",
              "      <th></th>\n",
              "      <th></th>\n",
              "      <th></th>\n",
              "      <th></th>\n",
              "      <th></th>\n",
              "      <th></th>\n",
              "      <th></th>\n",
              "    </tr>\n",
              "  </thead>\n",
              "  <tbody>\n",
              "    <tr>\n",
              "      <th>1</th>\n",
              "      <td>0.370594</td>\n",
              "      <td>0.424389</td>\n",
              "      <td>0.405750</td>\n",
              "      <td>0.601457</td>\n",
              "      <td>0.601457</td>\n",
              "      <td>0.998969</td>\n",
              "      <td>0.796887</td>\n",
              "      <td>0.808809</td>\n",
              "      <td>0.302646</td>\n",
              "      <td>0.780985</td>\n",
              "      <td>...</td>\n",
              "      <td>0.009219</td>\n",
              "      <td>0.622879</td>\n",
              "      <td>0.601453</td>\n",
              "      <td>0.827890</td>\n",
              "      <td>0.290202</td>\n",
              "      <td>0.026601</td>\n",
              "      <td>0.564050</td>\n",
              "      <td>1</td>\n",
              "      <td>0.016469</td>\n",
              "      <td>True</td>\n",
              "    </tr>\n",
              "    <tr>\n",
              "      <th>2</th>\n",
              "      <td>0.464291</td>\n",
              "      <td>0.538214</td>\n",
              "      <td>0.516730</td>\n",
              "      <td>0.610235</td>\n",
              "      <td>0.610235</td>\n",
              "      <td>0.998946</td>\n",
              "      <td>0.797380</td>\n",
              "      <td>0.809301</td>\n",
              "      <td>0.303556</td>\n",
              "      <td>0.781506</td>\n",
              "      <td>...</td>\n",
              "      <td>0.008323</td>\n",
              "      <td>0.623652</td>\n",
              "      <td>0.610237</td>\n",
              "      <td>0.839969</td>\n",
              "      <td>0.283846</td>\n",
              "      <td>0.264577</td>\n",
              "      <td>0.570175</td>\n",
              "      <td>1</td>\n",
              "      <td>0.020794</td>\n",
              "      <td>True</td>\n",
              "    </tr>\n",
              "    <tr>\n",
              "      <th>3</th>\n",
              "      <td>0.426071</td>\n",
              "      <td>0.499019</td>\n",
              "      <td>0.472295</td>\n",
              "      <td>0.601450</td>\n",
              "      <td>0.601364</td>\n",
              "      <td>0.998857</td>\n",
              "      <td>0.796403</td>\n",
              "      <td>0.808388</td>\n",
              "      <td>0.302035</td>\n",
              "      <td>0.780284</td>\n",
              "      <td>...</td>\n",
              "      <td>0.040003</td>\n",
              "      <td>0.623841</td>\n",
              "      <td>0.601449</td>\n",
              "      <td>0.836774</td>\n",
              "      <td>0.290189</td>\n",
              "      <td>0.026555</td>\n",
              "      <td>0.563706</td>\n",
              "      <td>1</td>\n",
              "      <td>0.016474</td>\n",
              "      <td>True</td>\n",
              "    </tr>\n",
              "    <tr>\n",
              "      <th>4</th>\n",
              "      <td>0.399844</td>\n",
              "      <td>0.451265</td>\n",
              "      <td>0.457733</td>\n",
              "      <td>0.583541</td>\n",
              "      <td>0.583541</td>\n",
              "      <td>0.998700</td>\n",
              "      <td>0.796967</td>\n",
              "      <td>0.808966</td>\n",
              "      <td>0.303350</td>\n",
              "      <td>0.781241</td>\n",
              "      <td>...</td>\n",
              "      <td>0.003252</td>\n",
              "      <td>0.622929</td>\n",
              "      <td>0.583538</td>\n",
              "      <td>0.834697</td>\n",
              "      <td>0.281721</td>\n",
              "      <td>0.026697</td>\n",
              "      <td>0.564663</td>\n",
              "      <td>1</td>\n",
              "      <td>0.023982</td>\n",
              "      <td>True</td>\n",
              "    </tr>\n",
              "    <tr>\n",
              "      <th>5</th>\n",
              "      <td>0.465022</td>\n",
              "      <td>0.538432</td>\n",
              "      <td>0.522298</td>\n",
              "      <td>0.598783</td>\n",
              "      <td>0.598783</td>\n",
              "      <td>0.998973</td>\n",
              "      <td>0.797366</td>\n",
              "      <td>0.809304</td>\n",
              "      <td>0.303475</td>\n",
              "      <td>0.781550</td>\n",
              "      <td>...</td>\n",
              "      <td>0.003878</td>\n",
              "      <td>0.623521</td>\n",
              "      <td>0.598782</td>\n",
              "      <td>0.839973</td>\n",
              "      <td>0.278514</td>\n",
              "      <td>0.024752</td>\n",
              "      <td>0.575617</td>\n",
              "      <td>1</td>\n",
              "      <td>0.035490</td>\n",
              "      <td>True</td>\n",
              "    </tr>\n",
              "  </tbody>\n",
              "</table>\n",
              "<p>5 rows × 96 columns</p>\n",
              "</div>\n",
              "    <div class=\"colab-df-buttons\">\n",
              "\n",
              "  <div class=\"colab-df-container\">\n",
              "    <button class=\"colab-df-convert\" onclick=\"convertToInteractive('df-4b1356db-156d-43e3-86d9-93866cc59e45')\"\n",
              "            title=\"Convert this dataframe to an interactive table.\"\n",
              "            style=\"display:none;\">\n",
              "\n",
              "  <svg xmlns=\"http://www.w3.org/2000/svg\" height=\"24px\" viewBox=\"0 -960 960 960\">\n",
              "    <path d=\"M120-120v-720h720v720H120Zm60-500h600v-160H180v160Zm220 220h160v-160H400v160Zm0 220h160v-160H400v160ZM180-400h160v-160H180v160Zm440 0h160v-160H620v160ZM180-180h160v-160H180v160Zm440 0h160v-160H620v160Z\"/>\n",
              "  </svg>\n",
              "    </button>\n",
              "\n",
              "  <style>\n",
              "    .colab-df-container {\n",
              "      display:flex;\n",
              "      gap: 12px;\n",
              "    }\n",
              "\n",
              "    .colab-df-convert {\n",
              "      background-color: #E8F0FE;\n",
              "      border: none;\n",
              "      border-radius: 50%;\n",
              "      cursor: pointer;\n",
              "      display: none;\n",
              "      fill: #1967D2;\n",
              "      height: 32px;\n",
              "      padding: 0 0 0 0;\n",
              "      width: 32px;\n",
              "    }\n",
              "\n",
              "    .colab-df-convert:hover {\n",
              "      background-color: #E2EBFA;\n",
              "      box-shadow: 0px 1px 2px rgba(60, 64, 67, 0.3), 0px 1px 3px 1px rgba(60, 64, 67, 0.15);\n",
              "      fill: #174EA6;\n",
              "    }\n",
              "\n",
              "    .colab-df-buttons div {\n",
              "      margin-bottom: 4px;\n",
              "    }\n",
              "\n",
              "    [theme=dark] .colab-df-convert {\n",
              "      background-color: #3B4455;\n",
              "      fill: #D2E3FC;\n",
              "    }\n",
              "\n",
              "    [theme=dark] .colab-df-convert:hover {\n",
              "      background-color: #434B5C;\n",
              "      box-shadow: 0px 1px 3px 1px rgba(0, 0, 0, 0.15);\n",
              "      filter: drop-shadow(0px 1px 2px rgba(0, 0, 0, 0.3));\n",
              "      fill: #FFFFFF;\n",
              "    }\n",
              "  </style>\n",
              "\n",
              "    <script>\n",
              "      const buttonEl =\n",
              "        document.querySelector('#df-4b1356db-156d-43e3-86d9-93866cc59e45 button.colab-df-convert');\n",
              "      buttonEl.style.display =\n",
              "        google.colab.kernel.accessAllowed ? 'block' : 'none';\n",
              "\n",
              "      async function convertToInteractive(key) {\n",
              "        const element = document.querySelector('#df-4b1356db-156d-43e3-86d9-93866cc59e45');\n",
              "        const dataTable =\n",
              "          await google.colab.kernel.invokeFunction('convertToInteractive',\n",
              "                                                    [key], {});\n",
              "        if (!dataTable) return;\n",
              "\n",
              "        const docLinkHtml = 'Like what you see? Visit the ' +\n",
              "          '<a target=\"_blank\" href=https://colab.research.google.com/notebooks/data_table.ipynb>data table notebook</a>'\n",
              "          + ' to learn more about interactive tables.';\n",
              "        element.innerHTML = '';\n",
              "        dataTable['output_type'] = 'display_data';\n",
              "        await google.colab.output.renderOutput(dataTable, element);\n",
              "        const docLink = document.createElement('div');\n",
              "        docLink.innerHTML = docLinkHtml;\n",
              "        element.appendChild(docLink);\n",
              "      }\n",
              "    </script>\n",
              "  </div>\n",
              "\n",
              "\n",
              "<div id=\"df-d8d6edb5-69b9-4173-86ab-0af2fbfaa896\">\n",
              "  <button class=\"colab-df-quickchart\" onclick=\"quickchart('df-d8d6edb5-69b9-4173-86ab-0af2fbfaa896')\"\n",
              "            title=\"Suggest charts.\"\n",
              "            style=\"display:none;\">\n",
              "\n",
              "<svg xmlns=\"http://www.w3.org/2000/svg\" height=\"24px\"viewBox=\"0 0 24 24\"\n",
              "     width=\"24px\">\n",
              "    <g>\n",
              "        <path d=\"M19 3H5c-1.1 0-2 .9-2 2v14c0 1.1.9 2 2 2h14c1.1 0 2-.9 2-2V5c0-1.1-.9-2-2-2zM9 17H7v-7h2v7zm4 0h-2V7h2v10zm4 0h-2v-4h2v4z\"/>\n",
              "    </g>\n",
              "</svg>\n",
              "  </button>\n",
              "\n",
              "<style>\n",
              "  .colab-df-quickchart {\n",
              "      --bg-color: #E8F0FE;\n",
              "      --fill-color: #1967D2;\n",
              "      --hover-bg-color: #E2EBFA;\n",
              "      --hover-fill-color: #174EA6;\n",
              "      --disabled-fill-color: #AAA;\n",
              "      --disabled-bg-color: #DDD;\n",
              "  }\n",
              "\n",
              "  [theme=dark] .colab-df-quickchart {\n",
              "      --bg-color: #3B4455;\n",
              "      --fill-color: #D2E3FC;\n",
              "      --hover-bg-color: #434B5C;\n",
              "      --hover-fill-color: #FFFFFF;\n",
              "      --disabled-bg-color: #3B4455;\n",
              "      --disabled-fill-color: #666;\n",
              "  }\n",
              "\n",
              "  .colab-df-quickchart {\n",
              "    background-color: var(--bg-color);\n",
              "    border: none;\n",
              "    border-radius: 50%;\n",
              "    cursor: pointer;\n",
              "    display: none;\n",
              "    fill: var(--fill-color);\n",
              "    height: 32px;\n",
              "    padding: 0;\n",
              "    width: 32px;\n",
              "  }\n",
              "\n",
              "  .colab-df-quickchart:hover {\n",
              "    background-color: var(--hover-bg-color);\n",
              "    box-shadow: 0 1px 2px rgba(60, 64, 67, 0.3), 0 1px 3px 1px rgba(60, 64, 67, 0.15);\n",
              "    fill: var(--button-hover-fill-color);\n",
              "  }\n",
              "\n",
              "  .colab-df-quickchart-complete:disabled,\n",
              "  .colab-df-quickchart-complete:disabled:hover {\n",
              "    background-color: var(--disabled-bg-color);\n",
              "    fill: var(--disabled-fill-color);\n",
              "    box-shadow: none;\n",
              "  }\n",
              "\n",
              "  .colab-df-spinner {\n",
              "    border: 2px solid var(--fill-color);\n",
              "    border-color: transparent;\n",
              "    border-bottom-color: var(--fill-color);\n",
              "    animation:\n",
              "      spin 1s steps(1) infinite;\n",
              "  }\n",
              "\n",
              "  @keyframes spin {\n",
              "    0% {\n",
              "      border-color: transparent;\n",
              "      border-bottom-color: var(--fill-color);\n",
              "      border-left-color: var(--fill-color);\n",
              "    }\n",
              "    20% {\n",
              "      border-color: transparent;\n",
              "      border-left-color: var(--fill-color);\n",
              "      border-top-color: var(--fill-color);\n",
              "    }\n",
              "    30% {\n",
              "      border-color: transparent;\n",
              "      border-left-color: var(--fill-color);\n",
              "      border-top-color: var(--fill-color);\n",
              "      border-right-color: var(--fill-color);\n",
              "    }\n",
              "    40% {\n",
              "      border-color: transparent;\n",
              "      border-right-color: var(--fill-color);\n",
              "      border-top-color: var(--fill-color);\n",
              "    }\n",
              "    60% {\n",
              "      border-color: transparent;\n",
              "      border-right-color: var(--fill-color);\n",
              "    }\n",
              "    80% {\n",
              "      border-color: transparent;\n",
              "      border-right-color: var(--fill-color);\n",
              "      border-bottom-color: var(--fill-color);\n",
              "    }\n",
              "    90% {\n",
              "      border-color: transparent;\n",
              "      border-bottom-color: var(--fill-color);\n",
              "    }\n",
              "  }\n",
              "</style>\n",
              "\n",
              "  <script>\n",
              "    async function quickchart(key) {\n",
              "      const quickchartButtonEl =\n",
              "        document.querySelector('#' + key + ' button');\n",
              "      quickchartButtonEl.disabled = true;  // To prevent multiple clicks.\n",
              "      quickchartButtonEl.classList.add('colab-df-spinner');\n",
              "      try {\n",
              "        const charts = await google.colab.kernel.invokeFunction(\n",
              "            'suggestCharts', [key], {});\n",
              "      } catch (error) {\n",
              "        console.error('Error during call to suggestCharts:', error);\n",
              "      }\n",
              "      quickchartButtonEl.classList.remove('colab-df-spinner');\n",
              "      quickchartButtonEl.classList.add('colab-df-quickchart-complete');\n",
              "    }\n",
              "    (() => {\n",
              "      let quickchartButtonEl =\n",
              "        document.querySelector('#df-d8d6edb5-69b9-4173-86ab-0af2fbfaa896 button');\n",
              "      quickchartButtonEl.style.display =\n",
              "        google.colab.kernel.accessAllowed ? 'block' : 'none';\n",
              "    })();\n",
              "  </script>\n",
              "</div>\n",
              "    </div>\n",
              "  </div>\n"
            ]
          },
          "metadata": {},
          "execution_count": 4
        }
      ]
    },
    {
      "cell_type": "markdown",
      "source": [
        "## Explore"
      ],
      "metadata": {
        "id": "f-8ZOHzpltMo"
      }
    },
    {
      "cell_type": "code",
      "source": [
        "# Inspect DataFrame\n",
        "df.info()"
      ],
      "metadata": {
        "colab": {
          "base_uri": "https://localhost:8080/"
        },
        "id": "Yp9eZWVBlwAa",
        "outputId": "d077214a-8f5c-478e-91b9-eaa8b844df10"
      },
      "execution_count": null,
      "outputs": [
        {
          "output_type": "stream",
          "name": "stdout",
          "text": [
            "<class 'pandas.core.frame.DataFrame'>\n",
            "Int64Index: 6819 entries, 1 to 6819\n",
            "Data columns (total 96 columns):\n",
            " #   Column    Non-Null Count  Dtype  \n",
            "---  ------    --------------  -----  \n",
            " 0   feat_1    6819 non-null   float64\n",
            " 1   feat_2    6819 non-null   float64\n",
            " 2   feat_3    6819 non-null   float64\n",
            " 3   feat_4    6819 non-null   float64\n",
            " 4   feat_5    6819 non-null   float64\n",
            " 5   feat_6    6819 non-null   float64\n",
            " 6   feat_7    6819 non-null   float64\n",
            " 7   feat_8    6819 non-null   float64\n",
            " 8   feat_9    6819 non-null   float64\n",
            " 9   feat_10   6819 non-null   float64\n",
            " 10  feat_11   6819 non-null   float64\n",
            " 11  feat_12   6819 non-null   float64\n",
            " 12  feat_13   6819 non-null   float64\n",
            " 13  feat_14   6819 non-null   float64\n",
            " 14  feat_15   6819 non-null   float64\n",
            " 15  feat_16   6819 non-null   float64\n",
            " 16  feat_17   6819 non-null   float64\n",
            " 17  feat_18   6819 non-null   float64\n",
            " 18  feat_19   6819 non-null   float64\n",
            " 19  feat_20   6819 non-null   float64\n",
            " 20  feat_21   6819 non-null   float64\n",
            " 21  feat_22   6819 non-null   float64\n",
            " 22  feat_23   6819 non-null   float64\n",
            " 23  feat_24   6819 non-null   float64\n",
            " 24  feat_25   6819 non-null   float64\n",
            " 25  feat_26   6819 non-null   float64\n",
            " 26  feat_27   6819 non-null   float64\n",
            " 27  feat_28   6819 non-null   float64\n",
            " 28  feat_29   6819 non-null   float64\n",
            " 29  feat_30   6819 non-null   float64\n",
            " 30  feat_31   6819 non-null   float64\n",
            " 31  feat_32   6819 non-null   float64\n",
            " 32  feat_33   6819 non-null   float64\n",
            " 33  feat_34   6819 non-null   float64\n",
            " 34  feat_35   6819 non-null   float64\n",
            " 35  feat_36   6819 non-null   float64\n",
            " 36  feat_37   6819 non-null   float64\n",
            " 37  feat_38   6819 non-null   float64\n",
            " 38  feat_39   6819 non-null   float64\n",
            " 39  feat_40   6819 non-null   float64\n",
            " 40  feat_41   6819 non-null   float64\n",
            " 41  feat_42   6819 non-null   float64\n",
            " 42  feat_43   6819 non-null   float64\n",
            " 43  feat_44   6819 non-null   float64\n",
            " 44  feat_45   6819 non-null   float64\n",
            " 45  feat_46   6819 non-null   float64\n",
            " 46  feat_47   6819 non-null   float64\n",
            " 47  feat_48   6819 non-null   float64\n",
            " 48  feat_49   6819 non-null   float64\n",
            " 49  feat_50   6819 non-null   float64\n",
            " 50  feat_51   6819 non-null   float64\n",
            " 51  feat_52   6819 non-null   float64\n",
            " 52  feat_53   6819 non-null   float64\n",
            " 53  feat_54   6819 non-null   float64\n",
            " 54  feat_55   6819 non-null   float64\n",
            " 55  feat_56   6819 non-null   float64\n",
            " 56  feat_57   6819 non-null   float64\n",
            " 57  feat_58   6819 non-null   float64\n",
            " 58  feat_59   6819 non-null   float64\n",
            " 59  feat_60   6819 non-null   float64\n",
            " 60  feat_61   6819 non-null   float64\n",
            " 61  feat_62   6819 non-null   float64\n",
            " 62  feat_63   6819 non-null   float64\n",
            " 63  feat_64   6819 non-null   float64\n",
            " 64  feat_65   6819 non-null   float64\n",
            " 65  feat_66   6819 non-null   float64\n",
            " 66  feat_67   6819 non-null   float64\n",
            " 67  feat_68   6819 non-null   float64\n",
            " 68  feat_69   6819 non-null   float64\n",
            " 69  feat_70   6819 non-null   float64\n",
            " 70  feat_71   6819 non-null   float64\n",
            " 71  feat_72   6819 non-null   float64\n",
            " 72  feat_73   6819 non-null   float64\n",
            " 73  feat_74   6819 non-null   float64\n",
            " 74  feat_75   6819 non-null   float64\n",
            " 75  feat_76   6819 non-null   float64\n",
            " 76  feat_77   6819 non-null   float64\n",
            " 77  feat_78   6819 non-null   float64\n",
            " 78  feat_79   6819 non-null   float64\n",
            " 79  feat_80   6819 non-null   float64\n",
            " 80  feat_81   6819 non-null   float64\n",
            " 81  feat_82   6819 non-null   float64\n",
            " 82  feat_83   6819 non-null   float64\n",
            " 83  feat_84   6819 non-null   float64\n",
            " 84  feat_85   6819 non-null   int64  \n",
            " 85  feat_86   6819 non-null   float64\n",
            " 86  feat_87   6819 non-null   float64\n",
            " 87  feat_88   6819 non-null   float64\n",
            " 88  feat_89   6819 non-null   float64\n",
            " 89  feat_90   6819 non-null   float64\n",
            " 90  feat_91   6819 non-null   float64\n",
            " 91  feat_92   6819 non-null   float64\n",
            " 92  feat_93   6819 non-null   float64\n",
            " 93  feat_94   6819 non-null   int64  \n",
            " 94  feat_95   6819 non-null   float64\n",
            " 95  bankrupt  6819 non-null   object \n",
            "dtypes: float64(93), int64(2), object(1)\n",
            "memory usage: 5.0+ MB\n"
          ]
        }
      ]
    },
    {
      "cell_type": "code",
      "source": [
        "# Plot class balance\n",
        "df[\"bankrupt\"].value_counts(normalize=True).plot(\n",
        "   kind=\"bar\", xlabel=\"Class\", ylabel=\"Relative Frequency\", title=\"Class Balance\"\n",
        ");"
      ],
      "metadata": {
        "colab": {
          "base_uri": "https://localhost:8080/",
          "height": 493
        },
        "id": "axxsFuiDlxBZ",
        "outputId": "0551ffe6-71d0-4a94-a844-b84b7f884d9d"
      },
      "execution_count": null,
      "outputs": [
        {
          "output_type": "display_data",
          "data": {
            "text/plain": [
              "<Figure size 640x480 with 1 Axes>"
            ],
            "image/png": "[encoded data removed]"
          },
          "metadata": {}
        }
      ]
    },
    {
      "cell_type": "code",
      "source": [
        "# Create boxplot that shows the distributions of the 'feat_86' column\n",
        "sns.boxplot(x = \"bankrupt\", y = \"feat_86\", data = df)\n",
        "plt.xlabel(\"Bankupt\")\n",
        "plt.ylabel(\"Net Income to Total Assets\")\n",
        "plt.title(\"Distribution of Income/Assets Ratio, by Class\");"
      ],
      "metadata": {
        "colab": {
          "base_uri": "https://localhost:8080/",
          "height": 472
        },
        "id": "_XUVkbyZmFUb",
        "outputId": "5be41ffc-4c43-4f25-f9c2-27ad7bb87e7a"
      },
      "execution_count": null,
      "outputs": [
        {
          "output_type": "display_data",
          "data": {
            "text/plain": [
              "<Figure size 640x480 with 1 Axes>"
            ],
            "image/png": "[encoded data removed]"
          },
          "metadata": {}
        }
      ]
    },
    {
      "cell_type": "code",
      "source": [
        "# Summary statistics for `feat_86`\n",
        "df[\"feat_86\"]. describe().apply(\"{0:,.0f}\".format)"
      ],
      "metadata": {
        "colab": {
          "base_uri": "https://localhost:8080/"
        },
        "id": "jr-qZUW8mJ90",
        "outputId": "56a51fde-160f-4771-b6ec-1358c3bdfc7e"
      },
      "execution_count": null,
      "outputs": [
        {
          "output_type": "execute_result",
          "data": {
            "text/plain": [
              "count    6,819\n",
              "mean         1\n",
              "std          0\n",
              "min          0\n",
              "25%          1\n",
              "50%          1\n",
              "75%          1\n",
              "max          1\n",
              "Name: feat_86, dtype: object"
            ]
          },
          "metadata": {},
          "execution_count": 8
        }
      ]
    },
    {
      "cell_type": "code",
      "source": [
        "# Plot histogram of `feat_86`\n",
        "df[\"feat_86\"].hist()\n",
        "plt.xlabel(\"Net Income to Total Assets\")\n",
        "plt.ylabel(\"Count\"),\n",
        "plt.title(\"Distribution of Income/Assets Ratio\");"
      ],
      "metadata": {
        "colab": {
          "base_uri": "https://localhost:8080/",
          "height": 472
        },
        "id": "d1aAUNsomK4Y",
        "outputId": "eee1cbee-7971-4aa5-e7ba-b379ec5e2ffd"
      },
      "execution_count": null,
      "outputs": [
        {
          "output_type": "display_data",
          "data": {
            "text/plain": [
              "<Figure size 640x480 with 1 Axes>"
            ],
            "image/png": "[encoded data removed]"
          },
          "metadata": {}
        }
      ]
    },
    {
      "cell_type": "code",
      "source": [
        "# Create clipped boxplot to remove outliers\n",
        "q1, q9 = df[\"feat_86\"]. quantile([0.1, 0.9])\n",
        "mask = df[\"feat_86\"].between (q1, q9)\n",
        "sns.boxplot(x = \"bankrupt\", y= \"feat_86\", data = df[mask])\n",
        "plt.xlabel(\"Bankrupt\")\n",
        "plt.ylabel(\"Net Income to Total Assets\")\n",
        "plt.title(\"Distribution of Income/Assets Ratio, by Bankruptcy Status\");"
      ],
      "metadata": {
        "colab": {
          "base_uri": "https://localhost:8080/",
          "height": 472
        },
        "id": "32J2UAjWmPVU",
        "outputId": "42efea80-ee57-48c9-e426-d502dea52718"
      },
      "execution_count": null,
      "outputs": [
        {
          "output_type": "display_data",
          "data": {
            "text/plain": [
              "<Figure size 640x480 with 1 Axes>"
            ],
            "image/png": "[encoded data removed]"
          },
          "metadata": {}
        }
      ]
    },
    {
      "cell_type": "code",
      "source": [
        " # Explore another feature\n",
        "# Create boxplot that shows the distributions of the 'feat_36' column\n",
        "sns.boxplot(x = \"bankrupt\", y = \"feat_36\", data = df)\n",
        "plt.xlabel(\"Bankupt\")\n",
        "plt.ylabel(\"Total debt/Total net worth\")\n",
        "plt.title(\"Distribution of debt/worth Ratio, by Class\");"
      ],
      "metadata": {
        "colab": {
          "base_uri": "https://localhost:8080/",
          "height": 472
        },
        "id": "oLI374dTmdWZ",
        "outputId": "8c5a07a6-745d-41b7-8831-cc3c5c559070"
      },
      "execution_count": null,
      "outputs": [
        {
          "output_type": "display_data",
          "data": {
            "text/plain": [
              "<Figure size 640x480 with 1 Axes>"
            ],
            "image/png": "[encoded data removed]"
          },
          "metadata": {}
        }
      ]
    },
    {
      "cell_type": "code",
      "source": [
        "# Summary statistics for `feat_36`\n",
        "df[\"feat_36\"]. describe().apply(\"{0:,.0f}\".format)"
      ],
      "metadata": {
        "colab": {
          "base_uri": "https://localhost:8080/"
        },
        "id": "SimYxDlemeeL",
        "outputId": "ac44a4da-8cfd-4bb1-807e-fba1532836c2"
      },
      "execution_count": null,
      "outputs": [
        {
          "output_type": "execute_result",
          "data": {
            "text/plain": [
              "count            6,819\n",
              "mean         4,416,337\n",
              "std        168,406,905\n",
              "min                  0\n",
              "25%                  0\n",
              "50%                  0\n",
              "75%                  0\n",
              "max      9,940,000,000\n",
              "Name: feat_36, dtype: object"
            ]
          },
          "metadata": {},
          "execution_count": 12
        }
      ]
    },
    {
      "cell_type": "code",
      "source": [
        "# Plot histogram of `feat_36`\n",
        "df[\"feat_36\"].hist()\n",
        "plt.xlabel(\"Bankupt\")\n",
        "plt.ylabel(\"Total debt/Total net worth\")\n",
        "plt.title(\"Distribution of debt/worth Ratio, by Class\");"
      ],
      "metadata": {
        "colab": {
          "base_uri": "https://localhost:8080/",
          "height": 472
        },
        "id": "tLAPXg7Cmfpj",
        "outputId": "452bb24a-1172-4bc8-a3b6-608d9447db9b"
      },
      "execution_count": null,
      "outputs": [
        {
          "output_type": "display_data",
          "data": {
            "text/plain": [
              "<Figure size 640x480 with 1 Axes>"
            ],
            "image/png": "[encoded data removed]"
          },
          "metadata": {}
        }
      ]
    },
    {
      "cell_type": "code",
      "source": [
        "# Create clipped boxplot to remove outliers\n",
        "q1, q9 = df[\"feat_36\"]. quantile([0.1, 0.9])\n",
        "mask_36 = df[\"feat_36\"].between (q1, q9)\n",
        "sns.boxplot(x = \"bankrupt\", y= \"feat_36\", data = df[mask_36])\n",
        "plt.xlabel(\"Bankupt\")\n",
        "plt.ylabel(\"Total debt/Total net worth\")\n",
        "plt.title(\"Distribution of debt/worth Ratio, by Class\");"
      ],
      "metadata": {
        "colab": {
          "base_uri": "https://localhost:8080/",
          "height": 472
        },
        "id": "_GjCtTJJmgsx",
        "outputId": "36d0eef0-3407-46e4-a97a-807abd4ca451"
      },
      "execution_count": null,
      "outputs": [
        {
          "output_type": "display_data",
          "data": {
            "text/plain": [
              "<Figure size 640x480 with 1 Axes>"
            ],
            "image/png": "[encoded data removed]"
          },
          "metadata": {}
        }
      ]
    },
    {
      "cell_type": "code",
      "source": [
        "corr = df.drop(columns=\"bankrupt\").corr()\n",
        "# Plot heatmap of `correlation`\n",
        "sns.heatmap(corr);"
      ],
      "metadata": {
        "colab": {
          "base_uri": "https://localhost:8080/",
          "height": 474
        },
        "id": "nv2eF5vBmUtX",
        "outputId": "0c4d2c52-e339-4531-b821-445e005f9f46"
      },
      "execution_count": null,
      "outputs": [
        {
          "output_type": "display_data",
          "data": {
            "text/plain": [
              "<Figure size 640x480 with 2 Axes>"
            ],
            "image/png": "[encoded data removed]"
          },
          "metadata": {}
        }
      ]
    },
    {
      "cell_type": "markdown",
      "source": [
        "## Split"
      ],
      "metadata": {
        "id": "T6LVMvUOmoBu"
      }
    },
    {
      "cell_type": "code",
      "source": [
        "# Create our feature matrix `X` and target vector `y`\n",
        "target = \"bankrupt\"\n",
        "X = df.drop(columns= target)\n",
        "y = df[target]\n",
        "print(\"X shape:\", X.shape)\n",
        "print(\"y shape:\", y.shape)"
      ],
      "metadata": {
        "colab": {
          "base_uri": "https://localhost:8080/"
        },
        "id": "9ZKdkKqnmq84",
        "outputId": "e2dedb7f-8c57-4b6c-830d-fe4a5ac2b4b9"
      },
      "execution_count": null,
      "outputs": [
        {
          "output_type": "stream",
          "name": "stdout",
          "text": [
            "X shape: (6819, 95)\n",
            "y shape: (6819,)\n"
          ]
        }
      ]
    },
    {
      "cell_type": "code",
      "source": [
        "# Divide our data (X and y) into training and test sets using a randomized train-test-split\n",
        "X_train, X_test, y_train, y_test = train_test_split(X,y, test_size=0.2, random_state=42)\n",
        "print(\"X_train shape:\", X_train.shape)\n",
        "print(\"y_train shape:\", y_train.shape)\n",
        "print(\"X_test shape:\", X_test.shape)\n",
        "print(\"y_test shape:\", y_test.shape)"
      ],
      "metadata": {
        "colab": {
          "base_uri": "https://localhost:8080/"
        },
        "id": "FULROAzEmpm8",
        "outputId": "0019bdae-4af3-482d-a306-6d849ad13399"
      },
      "execution_count": null,
      "outputs": [
        {
          "output_type": "stream",
          "name": "stdout",
          "text": [
            "X_train shape: (5455, 95)\n",
            "y_train shape: (5455,)\n",
            "X_test shape: (1364, 95)\n",
            "y_test shape: (1364,)\n"
          ]
        }
      ]
    },
    {
      "cell_type": "markdown",
      "source": [
        "## Resample"
      ],
      "metadata": {
        "id": "_Yznbym461x1"
      }
    },
    {
      "cell_type": "code",
      "source": [
        "# Create a new feature matrix `X_train_under` and target vector `y_train_under` by performing random under-sampling on our training data\n",
        "under_sampler = RandomUnderSampler(random_state=42)\n",
        "X_train_under, y_train_under = under_sampler.fit_resample(X_train, y_train)\n",
        "print(X_train_under.shape)\n",
        "X_train_under.head()"
      ],
      "metadata": {
        "id": "qX2lkCDM64Sj",
        "colab": {
          "base_uri": "https://localhost:8080/",
          "height": 273
        },
        "outputId": "f6dbfc23-709e-4848-91ba-5c1fdcdcad0e"
      },
      "execution_count": null,
      "outputs": [
        {
          "output_type": "stream",
          "name": "stdout",
          "text": [
            "(338, 95)\n"
          ]
        },
        {
          "output_type": "execute_result",
          "data": {
            "text/plain": [
              "     feat_1    feat_2    feat_3    feat_4    feat_5    feat_6    feat_7  \\\n",
              "0  0.547409  0.597580  0.583757  0.604707  0.604707  0.999089  0.797593   \n",
              "1  0.575196  0.622928  0.609187  0.606142  0.606142  0.999085  0.797859   \n",
              "2  0.490567  0.552933  0.539483  0.629665  0.629520  0.999108  0.797607   \n",
              "3  0.543899  0.598779  0.593180  0.602740  0.602754  0.999041  0.797495   \n",
              "4  0.608980  0.658689  0.655174  0.612491  0.613183  0.999193  0.798374   \n",
              "\n",
              "     feat_8    feat_9   feat_10  ...   feat_86   feat_87   feat_88   feat_89  \\\n",
              "0  0.809456  0.303629  0.781726  ...  0.831586  0.001479  0.624287  0.604706   \n",
              "1  0.809654  0.304102  0.781934  ...  0.845096  0.001891  0.624553  0.606139   \n",
              "2  0.809484  0.303613  0.781755  ...  0.810341  0.001115  0.624214  0.629664   \n",
              "3  0.809399  0.303559  0.781664  ...  0.828565  0.001621  0.623379  0.602735   \n",
              "4  0.810111  0.304774  0.782440  ...  0.867959  0.010567  0.621156  0.612491   \n",
              "\n",
              "    feat_90   feat_91   feat_92   feat_93  feat_94   feat_95  \n",
              "0  0.842928  0.279743  0.026801  0.565205        1  0.029354  \n",
              "1  0.843117  0.277089  0.026791  0.565159        1  0.050445  \n",
              "2  0.840741  0.275084  0.026791  0.565158        1  0.250781  \n",
              "3  0.843240  0.282201  0.026865  0.565489        1  0.023104  \n",
              "4  0.843773  0.275537  0.026791  0.565158        1  0.123342  \n",
              "\n",
              "[5 rows x 95 columns]"
            ],
            "text/html": [
              "\n",
              "  <div id=\"df-423986ad-428d-41fe-ab4d-a4674ab38425\" class=\"colab-df-container\">\n",
              "    <div>\n",
              "<style scoped>\n",
              "    .dataframe tbody tr th:only-of-type {\n",
              "        vertical-align: middle;\n",
              "    }\n",
              "\n",
              "    .dataframe tbody tr th {\n",
              "        vertical-align: top;\n",
              "    }\n",
              "\n",
              "    .dataframe thead th {\n",
              "        text-align: right;\n",
              "    }\n",
              "</style>\n",
              "<table border=\"1\" class=\"dataframe\">\n",
              "  <thead>\n",
              "    <tr style=\"text-align: right;\">\n",
              "      <th></th>\n",
              "      <th>feat_1</th>\n",
              "      <th>feat_2</th>\n",
              "      <th>feat_3</th>\n",
              "      <th>feat_4</th>\n",
              "      <th>feat_5</th>\n",
              "      <th>feat_6</th>\n",
              "      <th>feat_7</th>\n",
              "      <th>feat_8</th>\n",
              "      <th>feat_9</th>\n",
              "      <th>feat_10</th>\n",
              "      <th>...</th>\n",
              "      <th>feat_86</th>\n",
              "      <th>feat_87</th>\n",
              "      <th>feat_88</th>\n",
              "      <th>feat_89</th>\n",
              "      <th>feat_90</th>\n",
              "      <th>feat_91</th>\n",
              "      <th>feat_92</th>\n",
              "      <th>feat_93</th>\n",
              "      <th>feat_94</th>\n",
              "      <th>feat_95</th>\n",
              "    </tr>\n",
              "  </thead>\n",
              "  <tbody>\n",
              "    <tr>\n",
              "      <th>0</th>\n",
              "      <td>0.547409</td>\n",
              "      <td>0.597580</td>\n",
              "      <td>0.583757</td>\n",
              "      <td>0.604707</td>\n",
              "      <td>0.604707</td>\n",
              "      <td>0.999089</td>\n",
              "      <td>0.797593</td>\n",
              "      <td>0.809456</td>\n",
              "      <td>0.303629</td>\n",
              "      <td>0.781726</td>\n",
              "      <td>...</td>\n",
              "      <td>0.831586</td>\n",
              "      <td>0.001479</td>\n",
              "      <td>0.624287</td>\n",
              "      <td>0.604706</td>\n",
              "      <td>0.842928</td>\n",
              "      <td>0.279743</td>\n",
              "      <td>0.026801</td>\n",
              "      <td>0.565205</td>\n",
              "      <td>1</td>\n",
              "      <td>0.029354</td>\n",
              "    </tr>\n",
              "    <tr>\n",
              "      <th>1</th>\n",
              "      <td>0.575196</td>\n",
              "      <td>0.622928</td>\n",
              "      <td>0.609187</td>\n",
              "      <td>0.606142</td>\n",
              "      <td>0.606142</td>\n",
              "      <td>0.999085</td>\n",
              "      <td>0.797859</td>\n",
              "      <td>0.809654</td>\n",
              "      <td>0.304102</td>\n",
              "      <td>0.781934</td>\n",
              "      <td>...</td>\n",
              "      <td>0.845096</td>\n",
              "      <td>0.001891</td>\n",
              "      <td>0.624553</td>\n",
              "      <td>0.606139</td>\n",
              "      <td>0.843117</td>\n",
              "      <td>0.277089</td>\n",
              "      <td>0.026791</td>\n",
              "      <td>0.565159</td>\n",
              "      <td>1</td>\n",
              "      <td>0.050445</td>\n",
              "    </tr>\n",
              "    <tr>\n",
              "      <th>2</th>\n",
              "      <td>0.490567</td>\n",
              "      <td>0.552933</td>\n",
              "      <td>0.539483</td>\n",
              "      <td>0.629665</td>\n",
              "      <td>0.629520</td>\n",
              "      <td>0.999108</td>\n",
              "      <td>0.797607</td>\n",
              "      <td>0.809484</td>\n",
              "      <td>0.303613</td>\n",
              "      <td>0.781755</td>\n",
              "      <td>...</td>\n",
              "      <td>0.810341</td>\n",
              "      <td>0.001115</td>\n",
              "      <td>0.624214</td>\n",
              "      <td>0.629664</td>\n",
              "      <td>0.840741</td>\n",
              "      <td>0.275084</td>\n",
              "      <td>0.026791</td>\n",
              "      <td>0.565158</td>\n",
              "      <td>1</td>\n",
              "      <td>0.250781</td>\n",
              "    </tr>\n",
              "    <tr>\n",
              "      <th>3</th>\n",
              "      <td>0.543899</td>\n",
              "      <td>0.598779</td>\n",
              "      <td>0.593180</td>\n",
              "      <td>0.602740</td>\n",
              "      <td>0.602754</td>\n",
              "      <td>0.999041</td>\n",
              "      <td>0.797495</td>\n",
              "      <td>0.809399</td>\n",
              "      <td>0.303559</td>\n",
              "      <td>0.781664</td>\n",
              "      <td>...</td>\n",
              "      <td>0.828565</td>\n",
              "      <td>0.001621</td>\n",
              "      <td>0.623379</td>\n",
              "      <td>0.602735</td>\n",
              "      <td>0.843240</td>\n",
              "      <td>0.282201</td>\n",
              "      <td>0.026865</td>\n",
              "      <td>0.565489</td>\n",
              "      <td>1</td>\n",
              "      <td>0.023104</td>\n",
              "    </tr>\n",
              "    <tr>\n",
              "      <th>4</th>\n",
              "      <td>0.608980</td>\n",
              "      <td>0.658689</td>\n",
              "      <td>0.655174</td>\n",
              "      <td>0.612491</td>\n",
              "      <td>0.613183</td>\n",
              "      <td>0.999193</td>\n",
              "      <td>0.798374</td>\n",
              "      <td>0.810111</td>\n",
              "      <td>0.304774</td>\n",
              "      <td>0.782440</td>\n",
              "      <td>...</td>\n",
              "      <td>0.867959</td>\n",
              "      <td>0.010567</td>\n",
              "      <td>0.621156</td>\n",
              "      <td>0.612491</td>\n",
              "      <td>0.843773</td>\n",
              "      <td>0.275537</td>\n",
              "      <td>0.026791</td>\n",
              "      <td>0.565158</td>\n",
              "      <td>1</td>\n",
              "      <td>0.123342</td>\n",
              "    </tr>\n",
              "  </tbody>\n",
              "</table>\n",
              "<p>5 rows × 95 columns</p>\n",
              "</div>\n",
              "    <div class=\"colab-df-buttons\">\n",
              "\n",
              "  <div class=\"colab-df-container\">\n",
              "    <button class=\"colab-df-convert\" onclick=\"convertToInteractive('df-423986ad-428d-41fe-ab4d-a4674ab38425')\"\n",
              "            title=\"Convert this dataframe to an interactive table.\"\n",
              "            style=\"display:none;\">\n",
              "\n",
              "  <svg xmlns=\"http://www.w3.org/2000/svg\" height=\"24px\" viewBox=\"0 -960 960 960\">\n",
              "    <path d=\"M120-120v-720h720v720H120Zm60-500h600v-160H180v160Zm220 220h160v-160H400v160Zm0 220h160v-160H400v160ZM180-400h160v-160H180v160Zm440 0h160v-160H620v160ZM180-180h160v-160H180v160Zm440 0h160v-160H620v160Z\"/>\n",
              "  </svg>\n",
              "    </button>\n",
              "\n",
              "  <style>\n",
              "    .colab-df-container {\n",
              "      display:flex;\n",
              "      gap: 12px;\n",
              "    }\n",
              "\n",
              "    .colab-df-convert {\n",
              "      background-color: #E8F0FE;\n",
              "      border: none;\n",
              "      border-radius: 50%;\n",
              "      cursor: pointer;\n",
              "      display: none;\n",
              "      fill: #1967D2;\n",
              "      height: 32px;\n",
              "      padding: 0 0 0 0;\n",
              "      width: 32px;\n",
              "    }\n",
              "\n",
              "    .colab-df-convert:hover {\n",
              "      background-color: #E2EBFA;\n",
              "      box-shadow: 0px 1px 2px rgba(60, 64, 67, 0.3), 0px 1px 3px 1px rgba(60, 64, 67, 0.15);\n",
              "      fill: #174EA6;\n",
              "    }\n",
              "\n",
              "    .colab-df-buttons div {\n",
              "      margin-bottom: 4px;\n",
              "    }\n",
              "\n",
              "    [theme=dark] .colab-df-convert {\n",
              "      background-color: #3B4455;\n",
              "      fill: #D2E3FC;\n",
              "    }\n",
              "\n",
              "    [theme=dark] .colab-df-convert:hover {\n",
              "      background-color: #434B5C;\n",
              "      box-shadow: 0px 1px 3px 1px rgba(0, 0, 0, 0.15);\n",
              "      filter: drop-shadow(0px 1px 2px rgba(0, 0, 0, 0.3));\n",
              "      fill: #FFFFFF;\n",
              "    }\n",
              "  </style>\n",
              "\n",
              "    <script>\n",
              "      const buttonEl =\n",
              "        document.querySelector('#df-423986ad-428d-41fe-ab4d-a4674ab38425 button.colab-df-convert');\n",
              "      buttonEl.style.display =\n",
              "        google.colab.kernel.accessAllowed ? 'block' : 'none';\n",
              "\n",
              "      async function convertToInteractive(key) {\n",
              "        const element = document.querySelector('#df-423986ad-428d-41fe-ab4d-a4674ab38425');\n",
              "        const dataTable =\n",
              "          await google.colab.kernel.invokeFunction('convertToInteractive',\n",
              "                                                    [key], {});\n",
              "        if (!dataTable) return;\n",
              "\n",
              "        const docLinkHtml = 'Like what you see? Visit the ' +\n",
              "          '<a target=\"_blank\" href=https://colab.research.google.com/notebooks/data_table.ipynb>data table notebook</a>'\n",
              "          + ' to learn more about interactive tables.';\n",
              "        element.innerHTML = '';\n",
              "        dataTable['output_type'] = 'display_data';\n",
              "        await google.colab.output.renderOutput(dataTable, element);\n",
              "        const docLink = document.createElement('div');\n",
              "        docLink.innerHTML = docLinkHtml;\n",
              "        element.appendChild(docLink);\n",
              "      }\n",
              "    </script>\n",
              "  </div>\n",
              "\n",
              "\n",
              "<div id=\"df-a718b5e9-e1ac-4f3b-a628-170f96d0f869\">\n",
              "  <button class=\"colab-df-quickchart\" onclick=\"quickchart('df-a718b5e9-e1ac-4f3b-a628-170f96d0f869')\"\n",
              "            title=\"Suggest charts.\"\n",
              "            style=\"display:none;\">\n",
              "\n",
              "<svg xmlns=\"http://www.w3.org/2000/svg\" height=\"24px\"viewBox=\"0 0 24 24\"\n",
              "     width=\"24px\">\n",
              "    <g>\n",
              "        <path d=\"M19 3H5c-1.1 0-2 .9-2 2v14c0 1.1.9 2 2 2h14c1.1 0 2-.9 2-2V5c0-1.1-.9-2-2-2zM9 17H7v-7h2v7zm4 0h-2V7h2v10zm4 0h-2v-4h2v4z\"/>\n",
              "    </g>\n",
              "</svg>\n",
              "  </button>\n",
              "\n",
              "<style>\n",
              "  .colab-df-quickchart {\n",
              "      --bg-color: #E8F0FE;\n",
              "      --fill-color: #1967D2;\n",
              "      --hover-bg-color: #E2EBFA;\n",
              "      --hover-fill-color: #174EA6;\n",
              "      --disabled-fill-color: #AAA;\n",
              "      --disabled-bg-color: #DDD;\n",
              "  }\n",
              "\n",
              "  [theme=dark] .colab-df-quickchart {\n",
              "      --bg-color: #3B4455;\n",
              "      --fill-color: #D2E3FC;\n",
              "      --hover-bg-color: #434B5C;\n",
              "      --hover-fill-color: #FFFFFF;\n",
              "      --disabled-bg-color: #3B4455;\n",
              "      --disabled-fill-color: #666;\n",
              "  }\n",
              "\n",
              "  .colab-df-quickchart {\n",
              "    background-color: var(--bg-color);\n",
              "    border: none;\n",
              "    border-radius: 50%;\n",
              "    cursor: pointer;\n",
              "    display: none;\n",
              "    fill: var(--fill-color);\n",
              "    height: 32px;\n",
              "    padding: 0;\n",
              "    width: 32px;\n",
              "  }\n",
              "\n",
              "  .colab-df-quickchart:hover {\n",
              "    background-color: var(--hover-bg-color);\n",
              "    box-shadow: 0 1px 2px rgba(60, 64, 67, 0.3), 0 1px 3px 1px rgba(60, 64, 67, 0.15);\n",
              "    fill: var(--button-hover-fill-color);\n",
              "  }\n",
              "\n",
              "  .colab-df-quickchart-complete:disabled,\n",
              "  .colab-df-quickchart-complete:disabled:hover {\n",
              "    background-color: var(--disabled-bg-color);\n",
              "    fill: var(--disabled-fill-color);\n",
              "    box-shadow: none;\n",
              "  }\n",
              "\n",
              "  .colab-df-spinner {\n",
              "    border: 2px solid var(--fill-color);\n",
              "    border-color: transparent;\n",
              "    border-bottom-color: var(--fill-color);\n",
              "    animation:\n",
              "      spin 1s steps(1) infinite;\n",
              "  }\n",
              "\n",
              "  @keyframes spin {\n",
              "    0% {\n",
              "      border-color: transparent;\n",
              "      border-bottom-color: var(--fill-color);\n",
              "      border-left-color: var(--fill-color);\n",
              "    }\n",
              "    20% {\n",
              "      border-color: transparent;\n",
              "      border-left-color: var(--fill-color);\n",
              "      border-top-color: var(--fill-color);\n",
              "    }\n",
              "    30% {\n",
              "      border-color: transparent;\n",
              "      border-left-color: var(--fill-color);\n",
              "      border-top-color: var(--fill-color);\n",
              "      border-right-color: var(--fill-color);\n",
              "    }\n",
              "    40% {\n",
              "      border-color: transparent;\n",
              "      border-right-color: var(--fill-color);\n",
              "      border-top-color: var(--fill-color);\n",
              "    }\n",
              "    60% {\n",
              "      border-color: transparent;\n",
              "      border-right-color: var(--fill-color);\n",
              "    }\n",
              "    80% {\n",
              "      border-color: transparent;\n",
              "      border-right-color: var(--fill-color);\n",
              "      border-bottom-color: var(--fill-color);\n",
              "    }\n",
              "    90% {\n",
              "      border-color: transparent;\n",
              "      border-bottom-color: var(--fill-color);\n",
              "    }\n",
              "  }\n",
              "</style>\n",
              "\n",
              "  <script>\n",
              "    async function quickchart(key) {\n",
              "      const quickchartButtonEl =\n",
              "        document.querySelector('#' + key + ' button');\n",
              "      quickchartButtonEl.disabled = true;  // To prevent multiple clicks.\n",
              "      quickchartButtonEl.classList.add('colab-df-spinner');\n",
              "      try {\n",
              "        const charts = await google.colab.kernel.invokeFunction(\n",
              "            'suggestCharts', [key], {});\n",
              "      } catch (error) {\n",
              "        console.error('Error during call to suggestCharts:', error);\n",
              "      }\n",
              "      quickchartButtonEl.classList.remove('colab-df-spinner');\n",
              "      quickchartButtonEl.classList.add('colab-df-quickchart-complete');\n",
              "    }\n",
              "    (() => {\n",
              "      let quickchartButtonEl =\n",
              "        document.querySelector('#df-a718b5e9-e1ac-4f3b-a628-170f96d0f869 button');\n",
              "      quickchartButtonEl.style.display =\n",
              "        google.colab.kernel.accessAllowed ? 'block' : 'none';\n",
              "    })();\n",
              "  </script>\n",
              "</div>\n",
              "    </div>\n",
              "  </div>\n"
            ]
          },
          "metadata": {},
          "execution_count": 18
        }
      ]
    },
    {
      "cell_type": "code",
      "source": [
        "# Create a new feature matrix `X_train_over` and target vector `y_train_over` by performing random over-sampling on our training data\n",
        "over_sampler = RandomOverSampler(random_state=42)\n",
        "X_train_over, y_train_over = over_sampler.fit_resample(X_train, y_train)\n",
        "print(X_train_over.shape)\n",
        "X_train_over.head()"
      ],
      "metadata": {
        "id": "tSQ3gClX65Ed",
        "colab": {
          "base_uri": "https://localhost:8080/",
          "height": 273
        },
        "outputId": "0c52c346-a472-49be-cff2-c12b0e96d71e"
      },
      "execution_count": null,
      "outputs": [
        {
          "output_type": "stream",
          "name": "stdout",
          "text": [
            "(10572, 95)\n"
          ]
        },
        {
          "output_type": "execute_result",
          "data": {
            "text/plain": [
              "     feat_1    feat_2    feat_3    feat_4    feat_5    feat_6    feat_7  \\\n",
              "0  0.498513  0.542848  0.544622  0.599194  0.599036  0.998986  0.797412   \n",
              "1  0.506606  0.562309  0.558863  0.609334  0.609334  0.999027  0.797450   \n",
              "2  0.508799  0.561001  0.554687  0.614242  0.614055  0.999094  0.797533   \n",
              "3  0.499976  0.562527  0.546764  0.597825  0.597825  0.999004  0.797411   \n",
              "4  0.477892  0.547700  0.529150  0.600362  0.600362  0.998975  0.797412   \n",
              "\n",
              "     feat_8    feat_9   feat_10  ...   feat_86   feat_87   feat_88   feat_89  \\\n",
              "0  0.809330  0.303528  0.781593  ...  0.801313  0.005821  0.623649  0.599196   \n",
              "1  0.809375  0.303508  0.781637  ...  0.810914  0.000481  0.623932  0.609332   \n",
              "2  0.809424  0.303514  0.781692  ...  0.809740  0.001397  0.623714  0.614241   \n",
              "3  0.809329  0.303490  0.781590  ...  0.810082  0.000998  0.623986  0.597824   \n",
              "4  0.809333  0.303551  0.781584  ...  0.804638  0.002826  0.623845  0.600363   \n",
              "\n",
              "    feat_90   feat_91   feat_92   feat_93  feat_94   feat_95  \n",
              "0  0.840580  0.282564  0.027239  0.566658        1  0.022512  \n",
              "1  0.841339  0.280570  0.026843  0.565395        1  0.026670  \n",
              "2  0.840969  0.277772  0.026864  0.565484        1  0.041556  \n",
              "3  0.841885  0.286871  0.026951  0.565820        1  0.018173  \n",
              "4  0.840885  0.282073  0.026959  0.565848        1  0.023328  \n",
              "\n",
              "[5 rows x 95 columns]"
            ],
            "text/html": [
              "\n",
              "  <div id=\"df-7573fac2-a137-4bd4-9d6f-65faada24ce4\" class=\"colab-df-container\">\n",
              "    <div>\n",
              "<style scoped>\n",
              "    .dataframe tbody tr th:only-of-type {\n",
              "        vertical-align: middle;\n",
              "    }\n",
              "\n",
              "    .dataframe tbody tr th {\n",
              "        vertical-align: top;\n",
              "    }\n",
              "\n",
              "    .dataframe thead th {\n",
              "        text-align: right;\n",
              "    }\n",
              "</style>\n",
              "<table border=\"1\" class=\"dataframe\">\n",
              "  <thead>\n",
              "    <tr style=\"text-align: right;\">\n",
              "      <th></th>\n",
              "      <th>feat_1</th>\n",
              "      <th>feat_2</th>\n",
              "      <th>feat_3</th>\n",
              "      <th>feat_4</th>\n",
              "      <th>feat_5</th>\n",
              "      <th>feat_6</th>\n",
              "      <th>feat_7</th>\n",
              "      <th>feat_8</th>\n",
              "      <th>feat_9</th>\n",
              "      <th>feat_10</th>\n",
              "      <th>...</th>\n",
              "      <th>feat_86</th>\n",
              "      <th>feat_87</th>\n",
              "      <th>feat_88</th>\n",
              "      <th>feat_89</th>\n",
              "      <th>feat_90</th>\n",
              "      <th>feat_91</th>\n",
              "      <th>feat_92</th>\n",
              "      <th>feat_93</th>\n",
              "      <th>feat_94</th>\n",
              "      <th>feat_95</th>\n",
              "    </tr>\n",
              "  </thead>\n",
              "  <tbody>\n",
              "    <tr>\n",
              "      <th>0</th>\n",
              "      <td>0.498513</td>\n",
              "      <td>0.542848</td>\n",
              "      <td>0.544622</td>\n",
              "      <td>0.599194</td>\n",
              "      <td>0.599036</td>\n",
              "      <td>0.998986</td>\n",
              "      <td>0.797412</td>\n",
              "      <td>0.809330</td>\n",
              "      <td>0.303528</td>\n",
              "      <td>0.781593</td>\n",
              "      <td>...</td>\n",
              "      <td>0.801313</td>\n",
              "      <td>0.005821</td>\n",
              "      <td>0.623649</td>\n",
              "      <td>0.599196</td>\n",
              "      <td>0.840580</td>\n",
              "      <td>0.282564</td>\n",
              "      <td>0.027239</td>\n",
              "      <td>0.566658</td>\n",
              "      <td>1</td>\n",
              "      <td>0.022512</td>\n",
              "    </tr>\n",
              "    <tr>\n",
              "      <th>1</th>\n",
              "      <td>0.506606</td>\n",
              "      <td>0.562309</td>\n",
              "      <td>0.558863</td>\n",
              "      <td>0.609334</td>\n",
              "      <td>0.609334</td>\n",
              "      <td>0.999027</td>\n",
              "      <td>0.797450</td>\n",
              "      <td>0.809375</td>\n",
              "      <td>0.303508</td>\n",
              "      <td>0.781637</td>\n",
              "      <td>...</td>\n",
              "      <td>0.810914</td>\n",
              "      <td>0.000481</td>\n",
              "      <td>0.623932</td>\n",
              "      <td>0.609332</td>\n",
              "      <td>0.841339</td>\n",
              "      <td>0.280570</td>\n",
              "      <td>0.026843</td>\n",
              "      <td>0.565395</td>\n",
              "      <td>1</td>\n",
              "      <td>0.026670</td>\n",
              "    </tr>\n",
              "    <tr>\n",
              "      <th>2</th>\n",
              "      <td>0.508799</td>\n",
              "      <td>0.561001</td>\n",
              "      <td>0.554687</td>\n",
              "      <td>0.614242</td>\n",
              "      <td>0.614055</td>\n",
              "      <td>0.999094</td>\n",
              "      <td>0.797533</td>\n",
              "      <td>0.809424</td>\n",
              "      <td>0.303514</td>\n",
              "      <td>0.781692</td>\n",
              "      <td>...</td>\n",
              "      <td>0.809740</td>\n",
              "      <td>0.001397</td>\n",
              "      <td>0.623714</td>\n",
              "      <td>0.614241</td>\n",
              "      <td>0.840969</td>\n",
              "      <td>0.277772</td>\n",
              "      <td>0.026864</td>\n",
              "      <td>0.565484</td>\n",
              "      <td>1</td>\n",
              "      <td>0.041556</td>\n",
              "    </tr>\n",
              "    <tr>\n",
              "      <th>3</th>\n",
              "      <td>0.499976</td>\n",
              "      <td>0.562527</td>\n",
              "      <td>0.546764</td>\n",
              "      <td>0.597825</td>\n",
              "      <td>0.597825</td>\n",
              "      <td>0.999004</td>\n",
              "      <td>0.797411</td>\n",
              "      <td>0.809329</td>\n",
              "      <td>0.303490</td>\n",
              "      <td>0.781590</td>\n",
              "      <td>...</td>\n",
              "      <td>0.810082</td>\n",
              "      <td>0.000998</td>\n",
              "      <td>0.623986</td>\n",
              "      <td>0.597824</td>\n",
              "      <td>0.841885</td>\n",
              "      <td>0.286871</td>\n",
              "      <td>0.026951</td>\n",
              "      <td>0.565820</td>\n",
              "      <td>1</td>\n",
              "      <td>0.018173</td>\n",
              "    </tr>\n",
              "    <tr>\n",
              "      <th>4</th>\n",
              "      <td>0.477892</td>\n",
              "      <td>0.547700</td>\n",
              "      <td>0.529150</td>\n",
              "      <td>0.600362</td>\n",
              "      <td>0.600362</td>\n",
              "      <td>0.998975</td>\n",
              "      <td>0.797412</td>\n",
              "      <td>0.809333</td>\n",
              "      <td>0.303551</td>\n",
              "      <td>0.781584</td>\n",
              "      <td>...</td>\n",
              "      <td>0.804638</td>\n",
              "      <td>0.002826</td>\n",
              "      <td>0.623845</td>\n",
              "      <td>0.600363</td>\n",
              "      <td>0.840885</td>\n",
              "      <td>0.282073</td>\n",
              "      <td>0.026959</td>\n",
              "      <td>0.565848</td>\n",
              "      <td>1</td>\n",
              "      <td>0.023328</td>\n",
              "    </tr>\n",
              "  </tbody>\n",
              "</table>\n",
              "<p>5 rows × 95 columns</p>\n",
              "</div>\n",
              "    <div class=\"colab-df-buttons\">\n",
              "\n",
              "  <div class=\"colab-df-container\">\n",
              "    <button class=\"colab-df-convert\" onclick=\"convertToInteractive('df-7573fac2-a137-4bd4-9d6f-65faada24ce4')\"\n",
              "            title=\"Convert this dataframe to an interactive table.\"\n",
              "            style=\"display:none;\">\n",
              "\n",
              "  <svg xmlns=\"http://www.w3.org/2000/svg\" height=\"24px\" viewBox=\"0 -960 960 960\">\n",
              "    <path d=\"M120-120v-720h720v720H120Zm60-500h600v-160H180v160Zm220 220h160v-160H400v160Zm0 220h160v-160H400v160ZM180-400h160v-160H180v160Zm440 0h160v-160H620v160ZM180-180h160v-160H180v160Zm440 0h160v-160H620v160Z\"/>\n",
              "  </svg>\n",
              "    </button>\n",
              "\n",
              "  <style>\n",
              "    .colab-df-container {\n",
              "      display:flex;\n",
              "      gap: 12px;\n",
              "    }\n",
              "\n",
              "    .colab-df-convert {\n",
              "      background-color: #E8F0FE;\n",
              "      border: none;\n",
              "      border-radius: 50%;\n",
              "      cursor: pointer;\n",
              "      display: none;\n",
              "      fill: #1967D2;\n",
              "      height: 32px;\n",
              "      padding: 0 0 0 0;\n",
              "      width: 32px;\n",
              "    }\n",
              "\n",
              "    .colab-df-convert:hover {\n",
              "      background-color: #E2EBFA;\n",
              "      box-shadow: 0px 1px 2px rgba(60, 64, 67, 0.3), 0px 1px 3px 1px rgba(60, 64, 67, 0.15);\n",
              "      fill: #174EA6;\n",
              "    }\n",
              "\n",
              "    .colab-df-buttons div {\n",
              "      margin-bottom: 4px;\n",
              "    }\n",
              "\n",
              "    [theme=dark] .colab-df-convert {\n",
              "      background-color: #3B4455;\n",
              "      fill: #D2E3FC;\n",
              "    }\n",
              "\n",
              "    [theme=dark] .colab-df-convert:hover {\n",
              "      background-color: #434B5C;\n",
              "      box-shadow: 0px 1px 3px 1px rgba(0, 0, 0, 0.15);\n",
              "      filter: drop-shadow(0px 1px 2px rgba(0, 0, 0, 0.3));\n",
              "      fill: #FFFFFF;\n",
              "    }\n",
              "  </style>\n",
              "\n",
              "    <script>\n",
              "      const buttonEl =\n",
              "        document.querySelector('#df-7573fac2-a137-4bd4-9d6f-65faada24ce4 button.colab-df-convert');\n",
              "      buttonEl.style.display =\n",
              "        google.colab.kernel.accessAllowed ? 'block' : 'none';\n",
              "\n",
              "      async function convertToInteractive(key) {\n",
              "        const element = document.querySelector('#df-7573fac2-a137-4bd4-9d6f-65faada24ce4');\n",
              "        const dataTable =\n",
              "          await google.colab.kernel.invokeFunction('convertToInteractive',\n",
              "                                                    [key], {});\n",
              "        if (!dataTable) return;\n",
              "\n",
              "        const docLinkHtml = 'Like what you see? Visit the ' +\n",
              "          '<a target=\"_blank\" href=https://colab.research.google.com/notebooks/data_table.ipynb>data table notebook</a>'\n",
              "          + ' to learn more about interactive tables.';\n",
              "        element.innerHTML = '';\n",
              "        dataTable['output_type'] = 'display_data';\n",
              "        await google.colab.output.renderOutput(dataTable, element);\n",
              "        const docLink = document.createElement('div');\n",
              "        docLink.innerHTML = docLinkHtml;\n",
              "        element.appendChild(docLink);\n",
              "      }\n",
              "    </script>\n",
              "  </div>\n",
              "\n",
              "\n",
              "<div id=\"df-84b50571-110b-4a16-bda2-595c8d5cccd0\">\n",
              "  <button class=\"colab-df-quickchart\" onclick=\"quickchart('df-84b50571-110b-4a16-bda2-595c8d5cccd0')\"\n",
              "            title=\"Suggest charts.\"\n",
              "            style=\"display:none;\">\n",
              "\n",
              "<svg xmlns=\"http://www.w3.org/2000/svg\" height=\"24px\"viewBox=\"0 0 24 24\"\n",
              "     width=\"24px\">\n",
              "    <g>\n",
              "        <path d=\"M19 3H5c-1.1 0-2 .9-2 2v14c0 1.1.9 2 2 2h14c1.1 0 2-.9 2-2V5c0-1.1-.9-2-2-2zM9 17H7v-7h2v7zm4 0h-2V7h2v10zm4 0h-2v-4h2v4z\"/>\n",
              "    </g>\n",
              "</svg>\n",
              "  </button>\n",
              "\n",
              "<style>\n",
              "  .colab-df-quickchart {\n",
              "      --bg-color: #E8F0FE;\n",
              "      --fill-color: #1967D2;\n",
              "      --hover-bg-color: #E2EBFA;\n",
              "      --hover-fill-color: #174EA6;\n",
              "      --disabled-fill-color: #AAA;\n",
              "      --disabled-bg-color: #DDD;\n",
              "  }\n",
              "\n",
              "  [theme=dark] .colab-df-quickchart {\n",
              "      --bg-color: #3B4455;\n",
              "      --fill-color: #D2E3FC;\n",
              "      --hover-bg-color: #434B5C;\n",
              "      --hover-fill-color: #FFFFFF;\n",
              "      --disabled-bg-color: #3B4455;\n",
              "      --disabled-fill-color: #666;\n",
              "  }\n",
              "\n",
              "  .colab-df-quickchart {\n",
              "    background-color: var(--bg-color);\n",
              "    border: none;\n",
              "    border-radius: 50%;\n",
              "    cursor: pointer;\n",
              "    display: none;\n",
              "    fill: var(--fill-color);\n",
              "    height: 32px;\n",
              "    padding: 0;\n",
              "    width: 32px;\n",
              "  }\n",
              "\n",
              "  .colab-df-quickchart:hover {\n",
              "    background-color: var(--hover-bg-color);\n",
              "    box-shadow: 0 1px 2px rgba(60, 64, 67, 0.3), 0 1px 3px 1px rgba(60, 64, 67, 0.15);\n",
              "    fill: var(--button-hover-fill-color);\n",
              "  }\n",
              "\n",
              "  .colab-df-quickchart-complete:disabled,\n",
              "  .colab-df-quickchart-complete:disabled:hover {\n",
              "    background-color: var(--disabled-bg-color);\n",
              "    fill: var(--disabled-fill-color);\n",
              "    box-shadow: none;\n",
              "  }\n",
              "\n",
              "  .colab-df-spinner {\n",
              "    border: 2px solid var(--fill-color);\n",
              "    border-color: transparent;\n",
              "    border-bottom-color: var(--fill-color);\n",
              "    animation:\n",
              "      spin 1s steps(1) infinite;\n",
              "  }\n",
              "\n",
              "  @keyframes spin {\n",
              "    0% {\n",
              "      border-color: transparent;\n",
              "      border-bottom-color: var(--fill-color);\n",
              "      border-left-color: var(--fill-color);\n",
              "    }\n",
              "    20% {\n",
              "      border-color: transparent;\n",
              "      border-left-color: var(--fill-color);\n",
              "      border-top-color: var(--fill-color);\n",
              "    }\n",
              "    30% {\n",
              "      border-color: transparent;\n",
              "      border-left-color: var(--fill-color);\n",
              "      border-top-color: var(--fill-color);\n",
              "      border-right-color: var(--fill-color);\n",
              "    }\n",
              "    40% {\n",
              "      border-color: transparent;\n",
              "      border-right-color: var(--fill-color);\n",
              "      border-top-color: var(--fill-color);\n",
              "    }\n",
              "    60% {\n",
              "      border-color: transparent;\n",
              "      border-right-color: var(--fill-color);\n",
              "    }\n",
              "    80% {\n",
              "      border-color: transparent;\n",
              "      border-right-color: var(--fill-color);\n",
              "      border-bottom-color: var(--fill-color);\n",
              "    }\n",
              "    90% {\n",
              "      border-color: transparent;\n",
              "      border-bottom-color: var(--fill-color);\n",
              "    }\n",
              "  }\n",
              "</style>\n",
              "\n",
              "  <script>\n",
              "    async function quickchart(key) {\n",
              "      const quickchartButtonEl =\n",
              "        document.querySelector('#' + key + ' button');\n",
              "      quickchartButtonEl.disabled = true;  // To prevent multiple clicks.\n",
              "      quickchartButtonEl.classList.add('colab-df-spinner');\n",
              "      try {\n",
              "        const charts = await google.colab.kernel.invokeFunction(\n",
              "            'suggestCharts', [key], {});\n",
              "      } catch (error) {\n",
              "        console.error('Error during call to suggestCharts:', error);\n",
              "      }\n",
              "      quickchartButtonEl.classList.remove('colab-df-spinner');\n",
              "      quickchartButtonEl.classList.add('colab-df-quickchart-complete');\n",
              "    }\n",
              "    (() => {\n",
              "      let quickchartButtonEl =\n",
              "        document.querySelector('#df-84b50571-110b-4a16-bda2-595c8d5cccd0 button');\n",
              "      quickchartButtonEl.style.display =\n",
              "        google.colab.kernel.accessAllowed ? 'block' : 'none';\n",
              "    })();\n",
              "  </script>\n",
              "</div>\n",
              "    </div>\n",
              "  </div>\n"
            ]
          },
          "metadata": {},
          "execution_count": 19
        }
      ]
    },
    {
      "cell_type": "markdown",
      "source": [
        "#Build Model\n",
        "##Baseline"
      ],
      "metadata": {
        "id": "Cj7BS_vv6-v_"
      }
    },
    {
      "cell_type": "code",
      "source": [
        "# Calculate the baseline accuracy score for our model\n",
        "acc_baseline = y_train.value_counts(normalize=True).max()\n",
        "print(\"Baseline Accuracy:\", round(acc_baseline, 4))"
      ],
      "metadata": {
        "id": "Y5HCa_zi7GfB",
        "colab": {
          "base_uri": "https://localhost:8080/"
        },
        "outputId": "a1e471c7-3d22-465c-a67a-9846fa56da55"
      },
      "execution_count": null,
      "outputs": [
        {
          "output_type": "stream",
          "name": "stdout",
          "text": [
            "Baseline Accuracy: 0.969\n"
          ]
        }
      ]
    },
    {
      "cell_type": "markdown",
      "source": [
        "## Iterate"
      ],
      "metadata": {
        "id": "SMVM0g007GoM"
      }
    },
    {
      "cell_type": "code",
      "source": [
        "# Fit on `X_train`, `y_train`\n",
        "model_reg = make_pipeline(SimpleImputer(strategy = \"median\"), DecisionTreeClassifier(random_state=42))\n",
        "model_reg.fit(X_train, y_train)\n",
        "\n",
        "# Fit on `X_train_under`, `y_train_under`\n",
        "model_under = make_pipeline(SimpleImputer(strategy = \"median\"),DecisionTreeClassifier(random_state=42))\n",
        "model_under.fit(X_train_under, y_train_under)\n",
        "\n",
        "# Fit on `X_train_over`, `y_train_over`\n",
        "model_over = make_pipeline(SimpleImputer(strategy = \"median\"), DecisionTreeClassifier(random_state=42))\n",
        "model_over.fit(X_train_over, y_train_over)"
      ],
      "metadata": {
        "id": "KhTdUB1-7IPM",
        "colab": {
          "base_uri": "https://localhost:8080/",
          "height": 126
        },
        "outputId": "90890ada-b325-48fd-b503-d8437b2b4c5d"
      },
      "execution_count": null,
      "outputs": [
        {
          "output_type": "execute_result",
          "data": {
            "text/plain": [
              "Pipeline(steps=[('simpleimputer', SimpleImputer(strategy='median')),\n",
              "                ('decisiontreeclassifier',\n",
              "                 DecisionTreeClassifier(random_state=42))])"
            ],
            "text/html": [
              "<style>#sk-container-id-1 {color: black;background-color: white;}#sk-container-id-1 pre{padding: 0;}#sk-container-id-1 div.sk-toggleable {background-color: white;}#sk-container-id-1 label.sk-toggleable__label {cursor: pointer;display: block;width: 100%;margin-bottom: 0;padding: 0.3em;box-sizing: border-box;text-align: center;}#sk-container-id-1 label.sk-toggleable__label-arrow:before {content: \"▸\";float: left;margin-right: 0.25em;color: #696969;}#sk-container-id-1 label.sk-toggleable__label-arrow:hover:before {color: black;}#sk-container-id-1 div.sk-estimator:hover label.sk-toggleable__label-arrow:before {color: black;}#sk-container-id-1 div.sk-toggleable__content {max-height: 0;max-width: 0;overflow: hidden;text-align: left;background-color: #f0f8ff;}#sk-container-id-1 div.sk-toggleable__content pre {margin: 0.2em;color: black;border-radius: 0.25em;background-color: #f0f8ff;}#sk-container-id-1 input.sk-toggleable__control:checked~div.sk-toggleable__content {max-height: 200px;max-width: 100%;overflow: auto;}#sk-container-id-1 input.sk-toggleable__control:checked~label.sk-toggleable__label-arrow:before {content: \"▾\";}#sk-container-id-1 div.sk-estimator input.sk-toggleable__control:checked~label.sk-toggleable__label {background-color: #d4ebff;}#sk-container-id-1 div.sk-label input.sk-toggleable__control:checked~label.sk-toggleable__label {background-color: #d4ebff;}#sk-container-id-1 input.sk-hidden--visually {border: 0;clip: rect(1px 1px 1px 1px);clip: rect(1px, 1px, 1px, 1px);height: 1px;margin: -1px;overflow: hidden;padding: 0;position: absolute;width: 1px;}#sk-container-id-1 div.sk-estimator {font-family: monospace;background-color: #f0f8ff;border: 1px dotted black;border-radius: 0.25em;box-sizing: border-box;margin-bottom: 0.5em;}#sk-container-id-1 div.sk-estimator:hover {background-color: #d4ebff;}#sk-container-id-1 div.sk-parallel-item::after {content: \"\";width: 100%;border-bottom: 1px solid gray;flex-grow: 1;}#sk-container-id-1 div.sk-label:hover label.sk-toggleable__label {background-color: #d4ebff;}#sk-container-id-1 div.sk-serial::before {content: \"\";position: absolute;border-left: 1px solid gray;box-sizing: border-box;top: 0;bottom: 0;left: 50%;z-index: 0;}#sk-container-id-1 div.sk-serial {display: flex;flex-direction: column;align-items: center;background-color: white;padding-right: 0.2em;padding-left: 0.2em;position: relative;}#sk-container-id-1 div.sk-item {position: relative;z-index: 1;}#sk-container-id-1 div.sk-parallel {display: flex;align-items: stretch;justify-content: center;background-color: white;position: relative;}#sk-container-id-1 div.sk-item::before, #sk-container-id-1 div.sk-parallel-item::before {content: \"\";position: absolute;border-left: 1px solid gray;box-sizing: border-box;top: 0;bottom: 0;left: 50%;z-index: -1;}#sk-container-id-1 div.sk-parallel-item {display: flex;flex-direction: column;z-index: 1;position: relative;background-color: white;}#sk-container-id-1 div.sk-parallel-item:first-child::after {align-self: flex-end;width: 50%;}#sk-container-id-1 div.sk-parallel-item:last-child::after {align-self: flex-start;width: 50%;}#sk-container-id-1 div.sk-parallel-item:only-child::after {width: 0;}#sk-container-id-1 div.sk-dashed-wrapped {border: 1px dashed gray;margin: 0 0.4em 0.5em 0.4em;box-sizing: border-box;padding-bottom: 0.4em;background-color: white;}#sk-container-id-1 div.sk-label label {font-family: monospace;font-weight: bold;display: inline-block;line-height: 1.2em;}#sk-container-id-1 div.sk-label-container {text-align: center;}#sk-container-id-1 div.sk-container {/* jupyter's `normalize.less` sets `[hidden] { display: none; }` but bootstrap.min.css set `[hidden] { display: none !important; }` so we also need the `!important` here to be able to override the default hidden behavior on the sphinx rendered scikit-learn.org. See: https://github.com/scikit-learn/scikit-learn/issues/21755 */display: inline-block !important;position: relative;}#sk-container-id-1 div.sk-text-repr-fallback {display: none;}</style><div id=\"sk-container-id-1\" class=\"sk-top-container\"><div class=\"sk-text-repr-fallback\"><pre>Pipeline(steps=[(&#x27;simpleimputer&#x27;, SimpleImputer(strategy=&#x27;median&#x27;)),\n",
              "                (&#x27;decisiontreeclassifier&#x27;,\n",
              "                 DecisionTreeClassifier(random_state=42))])</pre><b>In a Jupyter environment, please rerun this cell to show the HTML representation or trust the notebook. <br />On GitHub, the HTML representation is unable to render, please try loading this page with nbviewer.org.</b></div><div class=\"sk-container\" hidden><div class=\"sk-item sk-dashed-wrapped\"><div class=\"sk-label-container\"><div class=\"sk-label sk-toggleable\"><input class=\"sk-toggleable__control sk-hidden--visually\" id=\"sk-estimator-id-1\" type=\"checkbox\" ><label for=\"sk-estimator-id-1\" class=\"sk-toggleable__label sk-toggleable__label-arrow\">Pipeline</label><div class=\"sk-toggleable__content\"><pre>Pipeline(steps=[(&#x27;simpleimputer&#x27;, SimpleImputer(strategy=&#x27;median&#x27;)),\n",
              "                (&#x27;decisiontreeclassifier&#x27;,\n",
              "                 DecisionTreeClassifier(random_state=42))])</pre></div></div></div><div class=\"sk-serial\"><div class=\"sk-item\"><div class=\"sk-estimator sk-toggleable\"><input class=\"sk-toggleable__control sk-hidden--visually\" id=\"sk-estimator-id-2\" type=\"checkbox\" ><label for=\"sk-estimator-id-2\" class=\"sk-toggleable__label sk-toggleable__label-arrow\">SimpleImputer</label><div class=\"sk-toggleable__content\"><pre>SimpleImputer(strategy=&#x27;median&#x27;)</pre></div></div></div><div class=\"sk-item\"><div class=\"sk-estimator sk-toggleable\"><input class=\"sk-toggleable__control sk-hidden--visually\" id=\"sk-estimator-id-3\" type=\"checkbox\" ><label for=\"sk-estimator-id-3\" class=\"sk-toggleable__label sk-toggleable__label-arrow\">DecisionTreeClassifier</label><div class=\"sk-toggleable__content\"><pre>DecisionTreeClassifier(random_state=42)</pre></div></div></div></div></div></div></div>"
            ]
          },
          "metadata": {},
          "execution_count": 21
        }
      ]
    },
    {
      "cell_type": "markdown",
      "source": [
        "## Evaluate"
      ],
      "metadata": {
        "id": "EpZrRgRN7ar8"
      }
    },
    {
      "cell_type": "code",
      "source": [
        "# Calculate the training and testing accuracies for our three models\n",
        "for m in [model_reg, model_under, model_over]:\n",
        "     acc_train = m.score(X_train, y_train)\n",
        "     acc_test = m.score(X_test, y_test)\n",
        "     print(\"Training Accuracy:\", round(acc_train, 4))\n",
        "     print(\"Test Accuracy:\", round(acc_test, 4))"
      ],
      "metadata": {
        "colab": {
          "base_uri": "https://localhost:8080/"
        },
        "id": "TfNw_mBY7m3p",
        "outputId": "072f03e2-23d0-4530-ced9-99b2d74c7c10"
      },
      "execution_count": null,
      "outputs": [
        {
          "output_type": "stream",
          "name": "stdout",
          "text": [
            "Training Accuracy: 1.0\n",
            "Test Accuracy: 0.9531\n",
            "Training Accuracy: 0.813\n",
            "Test Accuracy: 0.8057\n",
            "Training Accuracy: 1.0\n",
            "Test Accuracy: 0.9604\n"
          ]
        }
      ]
    },
    {
      "cell_type": "code",
      "source": [
        "# Plot confusion matrix shows how our best model performs\n",
        "ConfusionMatrixDisplay.from_estimator(model_over, X_test, y_test);"
      ],
      "metadata": {
        "colab": {
          "base_uri": "https://localhost:8080/",
          "height": 449
        },
        "id": "xxMbT48P7n4E",
        "outputId": "7320d267-9f22-4c95-d8fb-ed02b9f09e46"
      },
      "execution_count": null,
      "outputs": [
        {
          "output_type": "display_data",
          "data": {
            "text/plain": [
              "<Figure size 640x480 with 2 Axes>"
            ],
            "image/png": "[encoded data removed]"
          },
          "metadata": {}
        }
      ]
    },
    {
      "cell_type": "code",
      "source": [
        "# Determine the depth of the decision tree in `model_over`\n",
        "depth = model_over.named_steps[\"decisiontreeclassifier\"].get_depth()\n",
        "print(depth)"
      ],
      "metadata": {
        "colab": {
          "base_uri": "https://localhost:8080/"
        },
        "id": "XS0McvCR7rUV",
        "outputId": "a194d8e1-efd6-46df-eae7-444ed210847d"
      },
      "execution_count": null,
      "outputs": [
        {
          "output_type": "stream",
          "name": "stdout",
          "text": [
            "53\n"
          ]
        }
      ]
    },
    {
      "cell_type": "markdown",
      "source": [
        "# Results"
      ],
      "metadata": {
        "id": "uD7MoMEK7tST"
      }
    },
    {
      "cell_type": "code",
      "source": [
        "# Create a horizontal bar chart with the 10 most important features for `model_over`\n",
        "\n",
        "# Get importances\n",
        "importances = model_over.named_steps[\"decisiontreeclassifier\"].feature_importances_\n",
        "\n",
        "# Put importances into a Series\n",
        "feat_imp = pd.Series(importances, index=X_train_over.columns).sort_values()\n",
        "\n",
        "# Plot series\n",
        "feat_imp.tail(10).plot(kind= \"barh\")\n",
        "\n",
        "plt.xlabel(\"Gini Importance\")\n",
        "plt.ylabel(\"Feature\")\n",
        "plt.title(\"model_over Feature Importance\");"
      ],
      "metadata": {
        "colab": {
          "base_uri": "https://localhost:8080/",
          "height": 472
        },
        "id": "HVHv_qKX78kB",
        "outputId": "b6ef9f4a-2eeb-4151-b224-38a34be0cc3f"
      },
      "execution_count": null,
      "outputs": [
        {
          "output_type": "display_data",
          "data": {
            "text/plain": [
              "<Figure size 640x480 with 1 Axes>"
            ],
            "image/png": "[encoded data removed]"
          },
          "metadata": {}
        }
      ]
    },
    {
      "cell_type": "code",
      "source": [
        "# save our best-performing model to a a file named `\"model-1.pkl\"`\n",
        "with open(\"model-1.pkl\", \"wb\") as f:\n",
        "    pickle.dump(model_over, f)"
      ],
      "metadata": {
        "id": "i7mCvXmZ79cg"
      },
      "execution_count": null,
      "outputs": []
    },
    {
      "cell_type": "code",
      "source": [
        "# Make sure we’ve saved our model correctly by loading `\"dt-model.pkl\"` and assigning to the variable `loaded_model`\n",
        "with open(\"model-1.pkl\", \"rb\") as f:\n",
        "     loaded_model = pickle.load(f)\n",
        "print(loaded_model)"
      ],
      "metadata": {
        "colab": {
          "base_uri": "https://localhost:8080/"
        },
        "id": "ODOPAAXX8EMo",
        "outputId": "8f59a988-4cab-4dd2-bda7-c25e2e11e7ad"
      },
      "execution_count": null,
      "outputs": [
        {
          "output_type": "stream",
          "name": "stdout",
          "text": [
            "Pipeline(steps=[('simpleimputer', SimpleImputer(strategy='median')),\n",
            "                ('decisiontreeclassifier',\n",
            "                 DecisionTreeClassifier(random_state=42))])\n"
          ]
        }
      ]
    }
  ]
}